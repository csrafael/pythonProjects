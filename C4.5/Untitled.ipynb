{
 "cells": [
  {
   "cell_type": "code",
   "execution_count": 40,
   "metadata": {},
   "outputs": [
    {
     "name": "stdout",
     "output_type": "stream",
     "text": [
      "Accuracy: 0.6664667508417509\n"
     ]
    },
    {
     "data": {
      "text/plain": [
       "[Text(158.74137931034483, 199.32, 'X[1] <= 0.5\\nentropy = 0.918\\nsamples = 221760\\nvalue = [147859, 73901]'),\n",
       " Text(75.04137931034482, 163.07999999999998, 'X[3] <= 0.5\\nentropy = 0.919\\nsamples = 110853\\nvalue = [73875, 36978]'),\n",
       " Text(46.179310344827584, 126.83999999999999, 'X[2] <= 0.5\\nentropy = 0.917\\nsamples = 55498\\nvalue = [37078, 18420]'),\n",
       " Text(34.63448275862069, 90.6, 'X[4] <= 0.5\\nentropy = 0.918\\nsamples = 41556\\nvalue = [27721, 13835]'),\n",
       " Text(23.089655172413792, 54.359999999999985, 'X[0] <= 0.5\\nentropy = 0.919\\nsamples = 27693\\nvalue = [18456, 9237]'),\n",
       " Text(11.544827586206896, 18.119999999999976, 'entropy = 0.918\\nsamples = 13844\\nvalue = [9227, 4617]'),\n",
       " Text(34.63448275862069, 18.119999999999976, 'entropy = 0.919\\nsamples = 13849\\nvalue = [9229, 4620]'),\n",
       " Text(46.179310344827584, 54.359999999999985, 'entropy = 0.917\\nsamples = 13863\\nvalue = [9265, 4598]'),\n",
       " Text(57.72413793103448, 90.6, 'entropy = 0.914\\nsamples = 13942\\nvalue = [9357, 4585]'),\n",
       " Text(103.90344827586206, 126.83999999999999, 'X[4] <= 0.5\\nentropy = 0.92\\nsamples = 55355\\nvalue = [36797, 18558]'),\n",
       " Text(80.81379310344828, 90.6, 'X[2] <= 0.5\\nentropy = 0.92\\nsamples = 27627\\nvalue = [18383, 9244]'),\n",
       " Text(69.26896551724138, 54.359999999999985, 'entropy = 0.918\\nsamples = 13764\\nvalue = [9176, 4588]'),\n",
       " Text(92.35862068965517, 54.359999999999985, 'entropy = 0.921\\nsamples = 13863\\nvalue = [9207, 4656]'),\n",
       " Text(126.99310344827586, 90.6, 'X[2] <= 0.5\\nentropy = 0.921\\nsamples = 27728\\nvalue = [18414, 9314]'),\n",
       " Text(115.44827586206895, 54.359999999999985, 'entropy = 0.922\\nsamples = 13842\\nvalue = [9176, 4666]'),\n",
       " Text(138.53793103448277, 54.359999999999985, 'entropy = 0.92\\nsamples = 13886\\nvalue = [9238, 4648]'),\n",
       " Text(242.44137931034481, 163.07999999999998, 'X[3] <= 0.5\\nentropy = 0.918\\nsamples = 110907\\nvalue = [73984, 36923]'),\n",
       " Text(196.26206896551724, 126.83999999999999, 'X[2] <= 0.5\\nentropy = 0.919\\nsamples = 55454\\nvalue = [36919, 18535]'),\n",
       " Text(173.17241379310343, 90.6, 'X[0] <= 0.5\\nentropy = 0.918\\nsamples = 27813\\nvalue = [18554, 9259]'),\n",
       " Text(161.62758620689655, 54.359999999999985, 'entropy = 0.919\\nsamples = 13877\\nvalue = [9242, 4635]'),\n",
       " Text(184.71724137931034, 54.359999999999985, 'entropy = 0.917\\nsamples = 13936\\nvalue = [9312, 4624]'),\n",
       " Text(219.35172413793103, 90.6, 'X[0] <= 0.5\\nentropy = 0.921\\nsamples = 27641\\nvalue = [18365, 9276]'),\n",
       " Text(207.80689655172412, 54.359999999999985, 'entropy = 0.918\\nsamples = 13838\\nvalue = [9232, 4606]'),\n",
       " Text(230.8965517241379, 54.359999999999985, 'entropy = 0.923\\nsamples = 13803\\nvalue = [9133, 4670]'),\n",
       " Text(288.6206896551724, 126.83999999999999, 'X[0] <= 0.5\\nentropy = 0.917\\nsamples = 55453\\nvalue = [37065, 18388]'),\n",
       " Text(265.5310344827586, 90.6, 'X[4] <= 0.5\\nentropy = 0.918\\nsamples = 27774\\nvalue = [18538, 9236]'),\n",
       " Text(253.98620689655172, 54.359999999999985, 'entropy = 0.916\\nsamples = 13821\\nvalue = [9250, 4571]'),\n",
       " Text(277.07586206896553, 54.359999999999985, 'entropy = 0.919\\nsamples = 13953\\nvalue = [9288, 4665]'),\n",
       " Text(311.7103448275862, 90.6, 'X[4] <= 0.5\\nentropy = 0.916\\nsamples = 27679\\nvalue = [18527, 9152]'),\n",
       " Text(300.1655172413793, 54.359999999999985, 'entropy = 0.917\\nsamples = 13797\\nvalue = [9220, 4577]'),\n",
       " Text(323.2551724137931, 54.359999999999985, 'entropy = 0.914\\nsamples = 13882\\nvalue = [9307, 4575]')]"
      ]
     },
     "execution_count": 40,
     "metadata": {},
     "output_type": "execute_result"
    },
    {
     "data": {
      "image/png": "[encoded data removed]",
      "text/plain": [
       "<Figure size 432x288 with 1 Axes>"
      ]
     },
     "metadata": {
      "needs_background": "light"
     },
     "output_type": "display_data"
    }
   ],
   "source": [
    "import pandas as pd\n",
    "from sklearn import tree\n",
    "from sklearn.tree import DecisionTreeClassifier # Import Decision Tree Classifier\n",
    "from sklearn.model_selection import train_test_split # Import train_test_split function\n",
    "from sklearn import metrics #Import scikit-learn metrics module for accuracy calculation\n",
    "\n",
    "feature_cols = ['Fever','Tiredness','Dry-Cough','Difficulty-in-Breathing','Sore-Throat']\n",
    "\n",
    "dataFrame = pd.read_csv(\"Cleaned-Data.csv\")\n",
    "\n",
    "dataFrame.drop(\"Country\",axis=1,inplace=True)\n",
    "dataFrame.drop(\"Contact_No\",axis=1,inplace=True)\n",
    "dataFrame.drop(\"Age_0-9\",axis=1,inplace=True)\n",
    "\n",
    "X = dataFrame[feature_cols]\n",
    "y = dataFrame.Contact_Yes\n",
    "\n",
    "X_train, X_test, y_train, y_test = train_test_split(X, y, test_size=0.3, random_state=1) # 70% training and 30% test\n",
    "\n",
    "clf = DecisionTreeClassifier(criterion=\"entropy\")\n",
    "\n",
    "# Train Decision Tree Classifer\n",
    "clf = clf.fit(X_train,y_train)\n",
    "\n",
    "#Predict the response for test dataset\n",
    "y_pred = clf.predict(X_test)\n",
    "print(\"Accuracy:\",metrics.accuracy_score(y_test, y_pred))\n",
    "tree.plot_tree(clf)\n"
   ]
  },
  {
   "cell_type": "code",
   "execution_count": null,
   "metadata": {},
   "outputs": [],
   "source": []
  }
 ],
 "metadata": {
  "kernelspec": {
   "display_name": "Python 3",
   "language": "python",
   "name": "python3"
  },
  "language_info": {
   "codemirror_mode": {
    "name": "ipython",
    "version": 3
   },
   "file_extension": ".py",
   "mimetype": "text/x-python",
   "name": "python",
   "nbconvert_exporter": "python",
   "pygments_lexer": "ipython3",
   "version": "3.8.3"
  }
 },
 "nbformat": 4,
 "nbformat_minor": 4
}
